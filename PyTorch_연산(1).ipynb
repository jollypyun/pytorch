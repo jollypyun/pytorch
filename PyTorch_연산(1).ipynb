{
  "nbformat": 4,
  "nbformat_minor": 0,
  "metadata": {
    "colab": {
      "name": "PyTorch_연산(1).ipynb",
      "provenance": [],
      "authorship_tag": "ABX9TyOEDp2gKXCt5q7XlBk6dbzF",
      "include_colab_link": true
    },
    "kernelspec": {
      "name": "python3",
      "display_name": "Python 3"
    },
    "language_info": {
      "name": "python"
    }
  },
  "cells": [
    {
      "cell_type": "markdown",
      "metadata": {
        "id": "view-in-github",
        "colab_type": "text"
      },
      "source": [
        "<a href=\"https://colab.research.google.com/github/jollypyun/pytorch/blob/main/PyTorch_%EC%97%B0%EC%82%B0(1).ipynb\" target=\"_parent\"><img src=\"https://colab.research.google.com/assets/colab-badge.svg\" alt=\"Open In Colab\"/></a>"
      ]
    },
    {
      "cell_type": "code",
      "metadata": {
        "id": "Uf_gMZzmeSq4"
      },
      "source": [
        "from __future__ import print_function\n",
        "import torch"
      ],
      "execution_count": 3,
      "outputs": []
    },
    {
      "cell_type": "markdown",
      "metadata": {
        "id": "0EGJc-9Vd4-3"
      },
      "source": [
        "### 덧셈"
      ]
    },
    {
      "cell_type": "code",
      "metadata": {
        "colab": {
          "base_uri": "https://localhost:8080/"
        },
        "id": "_1QrN2Mrd5fM",
        "outputId": "632fa055-ff76-4aa2-94ad-284da4d1de21"
      },
      "source": [
        "x = torch.rand(5,3)\n",
        "y = torch.rand(5,3)\n",
        "\n",
        "print(x+y)            # 일반 연산\n",
        "print(torch.add(x,y)) # torch.add 사용\n",
        "print(y.add_(x))      # 바꿔치기 방식(꼭 'add' 뒤에 _ 붙일 것)"
      ],
      "execution_count": 5,
      "outputs": [
        {
          "output_type": "stream",
          "text": [
            "tensor([[1.2067, 0.8371, 0.6868],\n",
            "        [0.6937, 0.8427, 0.4040],\n",
            "        [0.4509, 0.7832, 1.4680],\n",
            "        [1.0894, 0.5431, 0.1222],\n",
            "        [1.0754, 0.9650, 1.3110]])\n",
            "tensor([[1.2067, 0.8371, 0.6868],\n",
            "        [0.6937, 0.8427, 0.4040],\n",
            "        [0.4509, 0.7832, 1.4680],\n",
            "        [1.0894, 0.5431, 0.1222],\n",
            "        [1.0754, 0.9650, 1.3110]])\n",
            "tensor([[1.2067, 0.8371, 0.6868],\n",
            "        [0.6937, 0.8427, 0.4040],\n",
            "        [0.4509, 0.7832, 1.4680],\n",
            "        [1.0894, 0.5431, 0.1222],\n",
            "        [1.0754, 0.9650, 1.3110]])\n"
          ],
          "name": "stdout"
        }
      ]
    },
    {
      "cell_type": "code",
      "metadata": {
        "colab": {
          "base_uri": "https://localhost:8080/"
        },
        "id": "lbJ09fO2h_vV",
        "outputId": "90d39883-0dd9-4ed4-a9b1-ff3d75703cbe"
      },
      "source": [
        "# 결과 tensor를 인자로 제공\n",
        "result = torch.empty(5,3)\n",
        "torch.add(x,y,out = result)\n",
        "print(result)"
      ],
      "execution_count": 6,
      "outputs": [
        {
          "output_type": "stream",
          "text": [
            "tensor([[1.8081, 1.4281, 1.1643],\n",
            "        [1.2275, 1.3381, 0.7216],\n",
            "        [0.7531, 1.1646, 2.0022],\n",
            "        [1.6482, 0.8366, 0.2209],\n",
            "        [2.0674, 1.7280, 1.7307]])\n"
          ],
          "name": "stdout"
        }
      ]
    },
    {
      "cell_type": "markdown",
      "metadata": {
        "id": "X_iHyjHxqe3j"
      },
      "source": [
        "### 일반"
      ]
    },
    {
      "cell_type": "code",
      "metadata": {
        "colab": {
          "base_uri": "https://localhost:8080/"
        },
        "id": "hzxRNYwMieJH",
        "outputId": "5c6c7ac4-6669-463d-a969-cc4fd35fe886"
      },
      "source": [
        "print(x[:,1]) # numpy스러운 인덱싱 표기 가능"
      ],
      "execution_count": 7,
      "outputs": [
        {
          "output_type": "stream",
          "text": [
            "tensor([0.5910, 0.4954, 0.3815, 0.2935, 0.7630])\n"
          ],
          "name": "stdout"
        }
      ]
    },
    {
      "cell_type": "markdown",
      "metadata": {
        "id": "QpkXQ4BTr42P"
      },
      "source": [
        "torch.view : tensor의 크기나 모양을 변경."
      ]
    },
    {
      "cell_type": "code",
      "metadata": {
        "colab": {
          "base_uri": "https://localhost:8080/"
        },
        "id": "qVWI_3GNqrwZ",
        "outputId": "5d4890f3-fcbe-4e48-a713-cbe36dd98e2b"
      },
      "source": [
        "x = torch.randn(4,4)  # 임의의 4x4 행렬\n",
        "y = x.view(16)        # 1x16 행렬로 변경\n",
        "z = x.view(-1,8)      # -1은 다른 차원에서 유추한다는 뜻\n",
        "print(x,y,z,sep='\\n')"
      ],
      "execution_count": 9,
      "outputs": [
        {
          "output_type": "stream",
          "text": [
            "tensor([[-0.9787,  0.7277, -0.6306, -0.1897],\n",
            "        [ 0.8597,  0.6265, -0.3357, -0.4142],\n",
            "        [ 0.7615, -1.3181, -1.6634,  0.9211],\n",
            "        [ 1.5216, -0.0481,  1.1547,  1.3253]])\n",
            "tensor([-0.9787,  0.7277, -0.6306, -0.1897,  0.8597,  0.6265, -0.3357, -0.4142,\n",
            "         0.7615, -1.3181, -1.6634,  0.9211,  1.5216, -0.0481,  1.1547,  1.3253])\n",
            "tensor([[-0.9787,  0.7277, -0.6306, -0.1897,  0.8597,  0.6265, -0.3357, -0.4142],\n",
            "        [ 0.7615, -1.3181, -1.6634,  0.9211,  1.5216, -0.0481,  1.1547,  1.3253]])\n"
          ],
          "name": "stdout"
        }
      ]
    },
    {
      "cell_type": "markdown",
      "metadata": {
        "id": "B90e0nTBsqOP"
      },
      "source": [
        ".item() : tensor의 값이 하나만 존재한다면, 이것을 사용해 숫자 값을 얻어낼 수 있다."
      ]
    },
    {
      "cell_type": "code",
      "metadata": {
        "colab": {
          "base_uri": "https://localhost:8080/"
        },
        "id": "o-u5VjbDsqFp",
        "outputId": "f1e0e674-b7e3-4132-f8fb-89e41497cf78"
      },
      "source": [
        "x = torch.randn(1)\n",
        "y = x.item()\n",
        "print(x,y,sep='\\n')"
      ],
      "execution_count": 10,
      "outputs": [
        {
          "output_type": "stream",
          "text": [
            "tensor([0.4881])\n",
            "0.48809733986854553\n"
          ],
          "name": "stdout"
        }
      ]
    }
  ]
}