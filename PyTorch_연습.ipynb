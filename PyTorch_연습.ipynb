{
  "nbformat": 4,
  "nbformat_minor": 0,
  "metadata": {
    "colab": {
      "name": "PyTorch 연습.ipynb",
      "provenance": [],
      "authorship_tag": "ABX9TyPMt3i8vgz0g3d3P5ay0SXm",
      "include_colab_link": true
    },
    "kernelspec": {
      "name": "python3",
      "display_name": "Python 3"
    }
  },
  "cells": [
    {
      "cell_type": "markdown",
      "metadata": {
        "id": "view-in-github",
        "colab_type": "text"
      },
      "source": [
        "<a href=\"https://colab.research.google.com/github/jollypyun/pytorch/blob/main/PyTorch_%EC%97%B0%EC%8A%B5.ipynb\" target=\"_parent\"><img src=\"https://colab.research.google.com/assets/colab-badge.svg\" alt=\"Open In Colab\"/></a>"
      ]
    },
    {
      "cell_type": "code",
      "metadata": {
        "id": "yyl_S1YWBiHG",
        "colab": {
          "base_uri": "https://localhost:8080/"
        },
        "outputId": "b7efb0f9-bbbc-447a-8435-cb07c4e657d9"
      },
      "source": [
        "from __future__ import print_function\n",
        "import torch\n",
        "\n",
        "x = torch.empty(5,3) # 5x3 행렬\n",
        "print(x)"
      ],
      "execution_count": 3,
      "outputs": [
        {
          "output_type": "stream",
          "text": [
            "tensor([[-1.7657e+31,  3.0969e-41,  3.3631e-44],\n",
            "        [ 0.0000e+00,         nan,  3.0969e-41],\n",
            "        [ 1.1578e+27,  1.1362e+30,  7.1547e+22],\n",
            "        [ 4.5828e+30,  1.2121e+04,  7.1846e+22],\n",
            "        [ 9.2198e-39,  7.0374e+22, -5.0609e+30]])\n"
          ],
          "name": "stdout"
        }
      ]
    },
    {
      "cell_type": "markdown",
      "metadata": {
        "id": "64_2GbBhNUEC"
      },
      "source": [
        "위와 같이 값이 나온 이유은 초기화되지 않은 행렬을 선언하였기 때문이다. 생성이 되면 그 시점에 할당된 메모리에 존재하던 값들이 초기값으로 나타난다."
      ]
    },
    {
      "cell_type": "code",
      "metadata": {
        "colab": {
          "base_uri": "https://localhost:8080/"
        },
        "id": "KXKUQYSHNow3",
        "outputId": "d74cf777-d65e-4516-b1e5-8b7813af6953"
      },
      "source": [
        "y = torch.rand(5,3)\n",
        "print(y)"
      ],
      "execution_count": 4,
      "outputs": [
        {
          "output_type": "stream",
          "text": [
            "tensor([[0.9641, 0.8211, 0.4505],\n",
            "        [0.5362, 0.2635, 0.2987],\n",
            "        [0.0329, 0.5107, 0.6523],\n",
            "        [0.0283, 0.2960, 0.6242],\n",
            "        [0.3057, 0.6017, 0.2690]])\n"
          ],
          "name": "stdout"
        }
      ]
    },
    {
      "cell_type": "markdown",
      "metadata": {
        "id": "vvS-shxmOG4X"
      },
      "source": [
        "rand는 무작위로 초기화된 행렬을 생성합니다."
      ]
    },
    {
      "cell_type": "code",
      "metadata": {
        "colab": {
          "base_uri": "https://localhost:8080/"
        },
        "id": "rgOaC79NOOS4",
        "outputId": "8b9f9727-1ed3-4ed7-dded-fb5d69f5c222"
      },
      "source": [
        "z = torch.zeros(5,3, dtype = torch.long)\n",
        "print(z)"
      ],
      "execution_count": 5,
      "outputs": [
        {
          "output_type": "stream",
          "text": [
            "tensor([[0, 0, 0],\n",
            "        [0, 0, 0],\n",
            "        [0, 0, 0],\n",
            "        [0, 0, 0],\n",
            "        [0, 0, 0]])\n"
          ],
          "name": "stdout"
        }
      ]
    },
    {
      "cell_type": "markdown",
      "metadata": {
        "id": "3UiFhQhCOebG"
      },
      "source": [
        "dtype이 long이고 5x3의 영행렬을 생성합니다."
      ]
    },
    {
      "cell_type": "code",
      "metadata": {
        "colab": {
          "base_uri": "https://localhost:8080/"
        },
        "id": "ImdTj2u5OfG9",
        "outputId": "6d4d6a92-b0a3-48b7-a6ac-daad0a0269da"
      },
      "source": [
        "a = torch.tensor([5.5,3])\n",
        "print(a)"
      ],
      "execution_count": 6,
      "outputs": [
        {
          "output_type": "stream",
          "text": [
            "tensor([5.5000, 3.0000])\n"
          ],
          "name": "stdout"
        }
      ]
    },
    {
      "cell_type": "markdown",
      "metadata": {
        "id": "stzukItyOrug"
      },
      "source": [
        "Tensor는 Numpy의 ndarray와 유사하며, GPU를 사용한 연산 가속도 가능하다."
      ]
    },
    {
      "cell_type": "code",
      "metadata": {
        "colab": {
          "base_uri": "https://localhost:8080/"
        },
        "id": "_aOhwZI6PP9Y",
        "outputId": "2193d5e9-64b0-4543-918e-8905f85be801"
      },
      "source": [
        "x = x.new_ones(5,3,dtype = torch.double)\n",
        "print(x)\n",
        "x = torch.rand_like(x, dtype = torch.float)\n",
        "print(x)"
      ],
      "execution_count": 7,
      "outputs": [
        {
          "output_type": "stream",
          "text": [
            "tensor([[1., 1., 1.],\n",
            "        [1., 1., 1.],\n",
            "        [1., 1., 1.],\n",
            "        [1., 1., 1.],\n",
            "        [1., 1., 1.]], dtype=torch.float64)\n",
            "tensor([[0.6574, 0.7716, 0.7529],\n",
            "        [0.4286, 0.1093, 0.7510],\n",
            "        [0.6525, 0.4324, 0.8856],\n",
            "        [0.0683, 0.2381, 0.7585],\n",
            "        [0.0393, 0.0186, 0.1186]])\n"
          ],
          "name": "stdout"
        }
      ]
    },
    {
      "cell_type": "markdown",
      "metadata": {
        "id": "UGUI067ZPi_3"
      },
      "source": [
        "기존 tensor를 바탕으로 새로운 tensor를 만들 수 있다. 이들 method는 사용자로부터 새로운 값을 제공받지 않는 한, 입력 tensor의 속성들을 재사용한다. (예. dtype)"
      ]
    },
    {
      "cell_type": "code",
      "metadata": {
        "colab": {
          "base_uri": "https://localhost:8080/"
        },
        "id": "jkNrZXRvPij5",
        "outputId": "7a3cff4a-792c-48e2-d4f6-5183567b908c"
      },
      "source": [
        "print(x.size())"
      ],
      "execution_count": 8,
      "outputs": [
        {
          "output_type": "stream",
          "text": [
            "torch.Size([5, 3])\n"
          ],
          "name": "stdout"
        }
      ]
    },
    {
      "cell_type": "markdown",
      "metadata": {
        "id": "Ks6QAe1dXYFM"
      },
      "source": [
        "행렬의 크기를 구한다. tuple타입이다."
      ]
    }
  ]
}